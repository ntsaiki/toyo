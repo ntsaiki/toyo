{
  "nbformat": 4,
  "nbformat_minor": 0,
  "metadata": {
    "kernelspec": {
      "display_name": "Python 3",
      "language": "python",
      "name": "python3"
    },
    "language_info": {
      "codemirror_mode": {
        "name": "ipython",
        "version": 3
      },
      "file_extension": ".py",
      "mimetype": "text/x-python",
      "name": "python",
      "nbconvert_exporter": "python",
      "pygments_lexer": "ipython3",
      "version": "3.7.5"
    },
    "colab": {
      "name": "Copy of mod-nivelamento-operacoes.ipynb",
      "provenance": [],
      "include_colab_link": true
    }
  },
  "cells": [
    {
      "cell_type": "markdown",
      "metadata": {
        "id": "view-in-github",
        "colab_type": "text"
      },
      "source": [
        "<a href=\"https://colab.research.google.com/github/ntsaiki/toyo/blob/master/Copy_of_mod_nivelamento_operacoes.ipynb\" target=\"_parent\"><img src=\"https://colab.research.google.com/assets/colab-badge.svg\" alt=\"Open In Colab\"/></a>"
      ]
    },
    {
      "cell_type": "markdown",
      "metadata": {
        "id": "1IiOzkS743Vx",
        "colab_type": "text"
      },
      "source": [
        "# Variáveis e operações em python"
      ]
    },
    {
      "cell_type": "markdown",
      "metadata": {
        "id": "dsIsvEu943V5",
        "colab_type": "text"
      },
      "source": [
        "## Variáveis em python"
      ]
    },
    {
      "cell_type": "markdown",
      "metadata": {
        "id": "iCtCpIoh43V8",
        "colab_type": "text"
      },
      "source": [
        "Define-se uma variável em python utilizando somente um sinal de igual (=). Variáveis em python aceitam vários tipos de dados diferentes."
      ]
    },
    {
      "cell_type": "code",
      "metadata": {
        "id": "W8pILqW743V_",
        "colab_type": "code",
        "colab": {}
      },
      "source": [
        "## definindo a variável hello\n",
        "\n",
        "hello = 'Hello World!'"
      ],
      "execution_count": 0,
      "outputs": []
    },
    {
      "cell_type": "code",
      "metadata": {
        "id": "zKPWqoaK43WN",
        "colab_type": "code",
        "outputId": "44630d58-bd8a-4a44-fcab-2cd9c82f0df0",
        "colab": {}
      },
      "source": [
        "## inspecionando a variável hello\n",
        "\n",
        "hello"
      ],
      "execution_count": 0,
      "outputs": [
        {
          "output_type": "execute_result",
          "data": {
            "text/plain": [
              "'Hello World!'"
            ]
          },
          "metadata": {
            "tags": []
          },
          "execution_count": 71
        }
      ]
    },
    {
      "cell_type": "code",
      "metadata": {
        "id": "vbZJgIOx43WZ",
        "colab_type": "code",
        "outputId": "3efd54d9-78dd-4687-de2f-e736a1338440",
        "colab": {}
      },
      "source": [
        "## inspecionando o tipo do dado que a variável bacon guarda\n",
        "\n",
        "type(hello)"
      ],
      "execution_count": 0,
      "outputs": [
        {
          "output_type": "execute_result",
          "data": {
            "text/plain": [
              "str"
            ]
          },
          "metadata": {
            "tags": []
          },
          "execution_count": 73
        }
      ]
    },
    {
      "cell_type": "code",
      "metadata": {
        "id": "XDM84EBl43Wi",
        "colab_type": "code",
        "colab": {}
      },
      "source": [
        "## definido a variável minha_segunda_variavel\n",
        "\n",
        "minha_segunda_variavel = 12"
      ],
      "execution_count": 0,
      "outputs": []
    },
    {
      "cell_type": "code",
      "metadata": {
        "id": "Q7_xqegX43Wr",
        "colab_type": "code",
        "outputId": "e5200f33-1ed9-4eb1-9eac-8ada86ec9601",
        "colab": {}
      },
      "source": [
        "## inspecionando a variável minha_segunda_variavel\n",
        "\n",
        "minha_segunda_variavel"
      ],
      "execution_count": 0,
      "outputs": [
        {
          "output_type": "execute_result",
          "data": {
            "text/plain": [
              "12"
            ]
          },
          "metadata": {
            "tags": []
          },
          "execution_count": 27
        }
      ]
    },
    {
      "cell_type": "code",
      "metadata": {
        "id": "E2wmx76f43W3",
        "colab_type": "code",
        "outputId": "7f9cd913-fc18-4d19-a3e3-3a328a23da82",
        "colab": {}
      },
      "source": [
        "## inspecionando o tipo do dado que a variável minha_segunda_variável guarda\n",
        "\n",
        "type(minha_segunda_variavel)"
      ],
      "execution_count": 0,
      "outputs": [
        {
          "output_type": "execute_result",
          "data": {
            "text/plain": [
              "int"
            ]
          },
          "metadata": {
            "tags": []
          },
          "execution_count": 28
        }
      ]
    },
    {
      "cell_type": "code",
      "metadata": {
        "id": "lvd1f-S243XB",
        "colab_type": "code",
        "colab": {}
      },
      "source": [
        "## definindo a variável minha_terceira_variavel\n",
        "\n",
        "minha_terceira_variavel = 12.999"
      ],
      "execution_count": 0,
      "outputs": []
    },
    {
      "cell_type": "code",
      "metadata": {
        "id": "q8HSUnh543XJ",
        "colab_type": "code",
        "outputId": "c01372db-4349-4617-dedb-3fba4f7df638",
        "colab": {}
      },
      "source": [
        "## inspecionando a variável minha_terceira_vairavel\n",
        "\n",
        "minha_terceira_variavel"
      ],
      "execution_count": 0,
      "outputs": [
        {
          "output_type": "execute_result",
          "data": {
            "text/plain": [
              "12.999"
            ]
          },
          "metadata": {
            "tags": []
          },
          "execution_count": 30
        }
      ]
    },
    {
      "cell_type": "code",
      "metadata": {
        "id": "Mozu3SqH43XR",
        "colab_type": "code",
        "outputId": "249e4ba5-d3e8-48b5-b52a-f6e16fae7602",
        "colab": {}
      },
      "source": [
        "## inspecionando o tipo do dado que a variável minha_terceira_variável guarda\n",
        "\n",
        "type(minha_terceira_variavel)"
      ],
      "execution_count": 0,
      "outputs": [
        {
          "output_type": "execute_result",
          "data": {
            "text/plain": [
              "float"
            ]
          },
          "metadata": {
            "tags": []
          },
          "execution_count": 31
        }
      ]
    },
    {
      "cell_type": "markdown",
      "metadata": {
        "id": "zegYQLVe43Xa",
        "colab_type": "text"
      },
      "source": [
        "Existe também a possibilidade de fazer várias atribuições ao mesmo tempo."
      ]
    },
    {
      "cell_type": "code",
      "metadata": {
        "id": "dLIKbppC43Xc",
        "colab_type": "code",
        "colab": {}
      },
      "source": [
        "## definindo três variáveis altura, pe e peso\n",
        "\n",
        "altura, pe, peso = 171, 42, 120 "
      ],
      "execution_count": 0,
      "outputs": []
    },
    {
      "cell_type": "code",
      "metadata": {
        "id": "Gs9pQID843Xl",
        "colab_type": "code",
        "outputId": "9e08fd1b-2439-49b5-cb59-fb696ec2095c",
        "colab": {}
      },
      "source": [
        "## inspecionando as três acima variáveis\n",
        "\n",
        "altura, pe, peso"
      ],
      "execution_count": 0,
      "outputs": [
        {
          "output_type": "execute_result",
          "data": {
            "text/plain": [
              "(171, 42, 120)"
            ]
          },
          "metadata": {
            "tags": []
          },
          "execution_count": 33
        }
      ]
    },
    {
      "cell_type": "code",
      "metadata": {
        "id": "NTNN4z_v43Xu",
        "colab_type": "code",
        "colab": {}
      },
      "source": [
        "altura = pe"
      ],
      "execution_count": 0,
      "outputs": []
    },
    {
      "cell_type": "code",
      "metadata": {
        "id": "R3DG3eHM43X1",
        "colab_type": "code",
        "outputId": "db972586-58ad-484a-c506-3793930d206c",
        "colab": {}
      },
      "source": [
        "altura, pe, peso"
      ],
      "execution_count": 0,
      "outputs": [
        {
          "output_type": "execute_result",
          "data": {
            "text/plain": [
              "(42, 42, 120)"
            ]
          },
          "metadata": {
            "tags": []
          },
          "execution_count": 75
        }
      ]
    },
    {
      "cell_type": "markdown",
      "metadata": {
        "id": "sCwO5VVJ43X9",
        "colab_type": "text"
      },
      "source": [
        "## Operações com variáveis\n",
        "\n",
        "| operação      | exemplo |\n",
        "|:---------------:|:---------:|\n",
        "| adição        | a + b   |\n",
        "| subtração     | a - b   |\n",
        "| divisão       | a / b   |\n",
        "| multiplicação | a * b   |\n",
        "| potência      | a ** b  |\n",
        "| modulus(eng)  | a % b   |\n",
        "| floor(eng)    | a // b  |"
      ]
    },
    {
      "cell_type": "code",
      "metadata": {
        "id": "aw5G9PJK43YA",
        "colab_type": "code",
        "colab": {}
      },
      "source": [
        "a = 5\n",
        "b = 2"
      ],
      "execution_count": 0,
      "outputs": []
    },
    {
      "cell_type": "code",
      "metadata": {
        "id": "pQNscYB_43YI",
        "colab_type": "code",
        "outputId": "bba563f4-37cf-463d-fde5-70784fc8853d",
        "colab": {}
      },
      "source": [
        "a + b"
      ],
      "execution_count": 0,
      "outputs": [
        {
          "output_type": "execute_result",
          "data": {
            "text/plain": [
              "7"
            ]
          },
          "metadata": {
            "tags": []
          },
          "execution_count": 79
        }
      ]
    },
    {
      "cell_type": "code",
      "metadata": {
        "id": "D-F87uv_43YQ",
        "colab_type": "code",
        "outputId": "2be833d5-a142-4021-cab7-24ccf33e7764",
        "colab": {}
      },
      "source": [
        "a - b"
      ],
      "execution_count": 0,
      "outputs": [
        {
          "output_type": "execute_result",
          "data": {
            "text/plain": [
              "3"
            ]
          },
          "metadata": {
            "tags": []
          },
          "execution_count": 80
        }
      ]
    },
    {
      "cell_type": "code",
      "metadata": {
        "id": "WnH1VSE743YX",
        "colab_type": "code",
        "outputId": "a759789a-cae6-405a-efe1-e60ed07716a4",
        "colab": {}
      },
      "source": [
        "a / b"
      ],
      "execution_count": 0,
      "outputs": [
        {
          "output_type": "execute_result",
          "data": {
            "text/plain": [
              "2.5"
            ]
          },
          "metadata": {
            "tags": []
          },
          "execution_count": 81
        }
      ]
    },
    {
      "cell_type": "code",
      "metadata": {
        "id": "WGjnDom-43Ye",
        "colab_type": "code",
        "outputId": "0dc83ec3-32b2-4375-df8e-2122a834c6af",
        "colab": {}
      },
      "source": [
        "a * b"
      ],
      "execution_count": 0,
      "outputs": [
        {
          "output_type": "execute_result",
          "data": {
            "text/plain": [
              "10"
            ]
          },
          "metadata": {
            "tags": []
          },
          "execution_count": 82
        }
      ]
    },
    {
      "cell_type": "code",
      "metadata": {
        "id": "LdJXVPgQ43Yl",
        "colab_type": "code",
        "outputId": "b7fe8856-f27e-4f61-8803-125666594411",
        "colab": {}
      },
      "source": [
        "a ** b"
      ],
      "execution_count": 0,
      "outputs": [
        {
          "output_type": "execute_result",
          "data": {
            "text/plain": [
              "25"
            ]
          },
          "metadata": {
            "tags": []
          },
          "execution_count": 83
        }
      ]
    },
    {
      "cell_type": "code",
      "metadata": {
        "id": "lLm9VZzp43Yt",
        "colab_type": "code",
        "outputId": "621fb02c-3a1c-44b1-f47e-53b8d18a3b49",
        "colab": {}
      },
      "source": [
        "a % b"
      ],
      "execution_count": 0,
      "outputs": [
        {
          "output_type": "execute_result",
          "data": {
            "text/plain": [
              "1"
            ]
          },
          "metadata": {
            "tags": []
          },
          "execution_count": 84
        }
      ]
    },
    {
      "cell_type": "code",
      "metadata": {
        "id": "3b-k4wBS43Y2",
        "colab_type": "code",
        "outputId": "f1327d25-8007-491c-d815-dc7f365a61bd",
        "colab": {}
      },
      "source": [
        "a // b"
      ],
      "execution_count": 0,
      "outputs": [
        {
          "output_type": "execute_result",
          "data": {
            "text/plain": [
              "2"
            ]
          },
          "metadata": {
            "tags": []
          },
          "execution_count": 85
        }
      ]
    },
    {
      "cell_type": "markdown",
      "metadata": {
        "id": "M3ci5E-d43Y-",
        "colab_type": "text"
      },
      "source": [
        "1 - Tente mudar as variáveis a e b acima para outros tipos de dado e veja quais operações funcionam;\n",
        "\n",
        "2 - Tente calcular o seu IMC utilizando somente operações matemáticas. Dica: o IMC é calculado da seguinte forma: IMC = peso / (altura em metros * altura em metros)\n",
        "\n",
        "3 - Resolva o exercício: Supondo que o valor de uma geladeira é de 250 reais, ao comprar com seu cartão de débito você obteve um desconto e, no final, pagou somente R$149,90. Qual foi seu desconto (em %)? Utiliza somente operações matemáticas em python.\n",
        "\n",
        "4 - Sua professora chata de português pediu para você escrever a frase 'português é maravilhoso' 50 vezes. Como resolver esse problema com python?\n",
        "\n",
        "5 - Um modelo de regressão linear possui a seguinte fórmula: y=0.253*x + 125. Qual será o valor de Y quando X for 125?\n",
        "\n",
        "6 - Qual é raiz cubica de 144? Utilize somente operações python apresentadas neste notebook.\n",
        "\n",
        "7 - Nossa matéria terá dois trabalhos! Os pesos são, respectivamente, 4 e 6. Imagine que você tenha tirado 8.2 no primeiro projeto e 3.3 no segundo projeto. Levando em consideração sua nota final e os pesos, você tirou uma média maior que 5?"
      ]
    },
    {
      "cell_type": "code",
      "metadata": {
        "id": "wqV8uvpS43ZB",
        "colab_type": "code",
        "colab": {}
      },
      "source": [
        ""
      ],
      "execution_count": 0,
      "outputs": []
    },
    {
      "cell_type": "code",
      "metadata": {
        "id": "AqvPTd7w43ZH",
        "colab_type": "code",
        "colab": {}
      },
      "source": [
        ""
      ],
      "execution_count": 0,
      "outputs": []
    }
  ]
}